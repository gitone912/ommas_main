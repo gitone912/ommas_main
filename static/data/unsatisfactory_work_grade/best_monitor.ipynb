{
 "cells": [
  {
   "cell_type": "code",
   "execution_count": 56,
   "metadata": {},
   "outputs": [],
   "source": [
    "import pandas as pd\n",
    "from sklearn.model_selection import train_test_split\n",
    "from sklearn.preprocessing import LabelEncoder\n",
    "from sklearn.ensemble import RandomForestClassifier\n",
    "from sklearn.metrics import accuracy_score\n",
    "import matplotlib.pyplot as plt\n",
    "\n",
    "# Load the data\n",
    "df = pd.read_csv(\"sqm/indiasqm.csv\")\n",
    "\n",
    "\n"
   ]
  },
  {
   "cell_type": "code",
   "execution_count": 57,
   "metadata": {},
   "outputs": [
    {
     "data": {
      "text/html": [
       "<div>\n",
       "<style scoped>\n",
       "    .dataframe tbody tr th:only-of-type {\n",
       "        vertical-align: middle;\n",
       "    }\n",
       "\n",
       "    .dataframe tbody tr th {\n",
       "        vertical-align: top;\n",
       "    }\n",
       "\n",
       "    .dataframe thead th {\n",
       "        text-align: right;\n",
       "    }\n",
       "</style>\n",
       "<table border=\"1\" class=\"dataframe\">\n",
       "  <thead>\n",
       "    <tr style=\"text-align: right;\">\n",
       "      <th></th>\n",
       "      <th>Location</th>\n",
       "      <th>Description</th>\n",
       "      <th>Total_Inspection_Completed_Works</th>\n",
       "      <th>Completed_Works_U%</th>\n",
       "      <th>Ongoing_Works</th>\n",
       "      <th>Ongoing_U%</th>\n",
       "      <th>Maintenance_Works</th>\n",
       "      <th>Maintenance_U%</th>\n",
       "      <th>Bridge_Works</th>\n",
       "      <th>Bridge_U%</th>\n",
       "      <th>Total_Inspection</th>\n",
       "    </tr>\n",
       "  </thead>\n",
       "  <tbody>\n",
       "    <tr>\n",
       "      <th>0</th>\n",
       "      <td>Andaman And Nicobar</td>\n",
       "      <td>Unsatisfactory works grading during  2...</td>\n",
       "      <td>21</td>\n",
       "      <td>0</td>\n",
       "      <td>0.00%</td>\n",
       "      <td>3</td>\n",
       "      <td>14.29%</td>\n",
       "      <td>0</td>\n",
       "      <td>0.00%</td>\n",
       "      <td>0</td>\n",
       "      <td>0.00%</td>\n",
       "    </tr>\n",
       "    <tr>\n",
       "      <th>1</th>\n",
       "      <td>Andaman And Nicobar</td>\n",
       "      <td>Unsatisfactory works grading during  2...</td>\n",
       "      <td>45</td>\n",
       "      <td>2</td>\n",
       "      <td>4.44%</td>\n",
       "      <td>0</td>\n",
       "      <td>0.00%</td>\n",
       "      <td>0</td>\n",
       "      <td>0.00%</td>\n",
       "      <td>0</td>\n",
       "      <td>0.00%</td>\n",
       "    </tr>\n",
       "    <tr>\n",
       "      <th>2</th>\n",
       "      <td>Andhra Pradesh</td>\n",
       "      <td>Unsatisfactory works grading during  2...</td>\n",
       "      <td>130</td>\n",
       "      <td>0</td>\n",
       "      <td>0.00%</td>\n",
       "      <td>1</td>\n",
       "      <td>0.77%</td>\n",
       "      <td>0</td>\n",
       "      <td>0.00%</td>\n",
       "      <td>0</td>\n",
       "      <td>0.00%</td>\n",
       "    </tr>\n",
       "    <tr>\n",
       "      <th>3</th>\n",
       "      <td>Andhra Pradesh</td>\n",
       "      <td>Unsatisfactory works grading during  2...</td>\n",
       "      <td>341</td>\n",
       "      <td>0</td>\n",
       "      <td>0.00%</td>\n",
       "      <td>2</td>\n",
       "      <td>0.59%</td>\n",
       "      <td>8</td>\n",
       "      <td>2.35%</td>\n",
       "      <td>0</td>\n",
       "      <td>0.00%</td>\n",
       "    </tr>\n",
       "    <tr>\n",
       "      <th>4</th>\n",
       "      <td>Arunachal Pradesh</td>\n",
       "      <td>Unsatisfactory works grading during  2...</td>\n",
       "      <td>146</td>\n",
       "      <td>0</td>\n",
       "      <td>0.00%</td>\n",
       "      <td>0</td>\n",
       "      <td>0.00%</td>\n",
       "      <td>4</td>\n",
       "      <td>2.74%</td>\n",
       "      <td>0</td>\n",
       "      <td>0.00%</td>\n",
       "    </tr>\n",
       "    <tr>\n",
       "      <th>5</th>\n",
       "      <td>Arunachal Pradesh</td>\n",
       "      <td>Unsatisfactory works grading during  2...</td>\n",
       "      <td>256</td>\n",
       "      <td>0</td>\n",
       "      <td>0.00%</td>\n",
       "      <td>1</td>\n",
       "      <td>0.39%</td>\n",
       "      <td>5</td>\n",
       "      <td>1.95%</td>\n",
       "      <td>5</td>\n",
       "      <td>1.95%</td>\n",
       "    </tr>\n",
       "    <tr>\n",
       "      <th>6</th>\n",
       "      <td>Assam</td>\n",
       "      <td>Unsatisfactory works grading during  2...</td>\n",
       "      <td>871</td>\n",
       "      <td>0</td>\n",
       "      <td>0.00%</td>\n",
       "      <td>7</td>\n",
       "      <td>0.80%</td>\n",
       "      <td>59</td>\n",
       "      <td>6.77%</td>\n",
       "      <td>4</td>\n",
       "      <td>0.46%</td>\n",
       "    </tr>\n",
       "    <tr>\n",
       "      <th>7</th>\n",
       "      <td>Assam</td>\n",
       "      <td>Unsatisfactory works grading during  2...</td>\n",
       "      <td>2,042</td>\n",
       "      <td>4</td>\n",
       "      <td>0.20%</td>\n",
       "      <td>6</td>\n",
       "      <td>0.29%</td>\n",
       "      <td>176</td>\n",
       "      <td>8.62%</td>\n",
       "      <td>2</td>\n",
       "      <td>0.10%</td>\n",
       "    </tr>\n",
       "    <tr>\n",
       "      <th>8</th>\n",
       "      <td>Bihar</td>\n",
       "      <td>Unsatisfactory works grading during  2...</td>\n",
       "      <td>1,315</td>\n",
       "      <td>0</td>\n",
       "      <td>0.00%</td>\n",
       "      <td>9</td>\n",
       "      <td>0.68%</td>\n",
       "      <td>176</td>\n",
       "      <td>13.38%</td>\n",
       "      <td>41</td>\n",
       "      <td>3.12%</td>\n",
       "    </tr>\n",
       "    <tr>\n",
       "      <th>9</th>\n",
       "      <td>Bihar</td>\n",
       "      <td>Unsatisfactory works grading during  2...</td>\n",
       "      <td>3,173</td>\n",
       "      <td>13</td>\n",
       "      <td>0.41%</td>\n",
       "      <td>11</td>\n",
       "      <td>0.35%</td>\n",
       "      <td>282</td>\n",
       "      <td>8.89%</td>\n",
       "      <td>95</td>\n",
       "      <td>2.99%</td>\n",
       "    </tr>\n",
       "    <tr>\n",
       "      <th>10</th>\n",
       "      <td>Chhattisgarh</td>\n",
       "      <td>Unsatisfactory works grading during  2...</td>\n",
       "      <td>749</td>\n",
       "      <td>0</td>\n",
       "      <td>0.00%</td>\n",
       "      <td>0</td>\n",
       "      <td>0.00%</td>\n",
       "      <td>2</td>\n",
       "      <td>0.27%</td>\n",
       "      <td>0</td>\n",
       "      <td>0.00%</td>\n",
       "    </tr>\n",
       "    <tr>\n",
       "      <th>11</th>\n",
       "      <td>Chhattisgarh</td>\n",
       "      <td>Unsatisfactory works grading during  2...</td>\n",
       "      <td>1,328</td>\n",
       "      <td>0</td>\n",
       "      <td>0.00%</td>\n",
       "      <td>0</td>\n",
       "      <td>0.00%</td>\n",
       "      <td>4</td>\n",
       "      <td>0.30%</td>\n",
       "      <td>0</td>\n",
       "      <td>0.00%</td>\n",
       "    </tr>\n",
       "    <tr>\n",
       "      <th>12</th>\n",
       "      <td>Gujarat</td>\n",
       "      <td>Unsatisfactory works grading during  2...</td>\n",
       "      <td>166</td>\n",
       "      <td>0</td>\n",
       "      <td>0.00%</td>\n",
       "      <td>0</td>\n",
       "      <td>0.00%</td>\n",
       "      <td>7</td>\n",
       "      <td>4.22%</td>\n",
       "      <td>0</td>\n",
       "      <td>0.00%</td>\n",
       "    </tr>\n",
       "    <tr>\n",
       "      <th>13</th>\n",
       "      <td>Gujarat</td>\n",
       "      <td>Unsatisfactory works grading during  2...</td>\n",
       "      <td>287</td>\n",
       "      <td>3</td>\n",
       "      <td>1.05%</td>\n",
       "      <td>5</td>\n",
       "      <td>1.74%</td>\n",
       "      <td>4</td>\n",
       "      <td>1.39%</td>\n",
       "      <td>0</td>\n",
       "      <td>0.00%</td>\n",
       "    </tr>\n",
       "    <tr>\n",
       "      <th>14</th>\n",
       "      <td>Haryana</td>\n",
       "      <td>Unsatisfactory works grading during  2...</td>\n",
       "      <td>75</td>\n",
       "      <td>0</td>\n",
       "      <td>0.00%</td>\n",
       "      <td>0</td>\n",
       "      <td>0.00%</td>\n",
       "      <td>0</td>\n",
       "      <td>0.00%</td>\n",
       "      <td>0</td>\n",
       "      <td>0.00%</td>\n",
       "    </tr>\n",
       "    <tr>\n",
       "      <th>15</th>\n",
       "      <td>Haryana</td>\n",
       "      <td>Unsatisfactory works grading during  2...</td>\n",
       "      <td>218</td>\n",
       "      <td>0</td>\n",
       "      <td>0.00%</td>\n",
       "      <td>0</td>\n",
       "      <td>0.00%</td>\n",
       "      <td>7</td>\n",
       "      <td>3.21%</td>\n",
       "      <td>0</td>\n",
       "      <td>0.00%</td>\n",
       "    </tr>\n",
       "    <tr>\n",
       "      <th>16</th>\n",
       "      <td>Himachal Pradesh</td>\n",
       "      <td>Unsatisfactory works grading during  2...</td>\n",
       "      <td>227</td>\n",
       "      <td>0</td>\n",
       "      <td>0.00%</td>\n",
       "      <td>8</td>\n",
       "      <td>3.52%</td>\n",
       "      <td>20</td>\n",
       "      <td>8.81%</td>\n",
       "      <td>2</td>\n",
       "      <td>0.88%</td>\n",
       "    </tr>\n",
       "    <tr>\n",
       "      <th>17</th>\n",
       "      <td>Himachal Pradesh</td>\n",
       "      <td>Unsatisfactory works grading during  2...</td>\n",
       "      <td>438</td>\n",
       "      <td>3</td>\n",
       "      <td>0.68%</td>\n",
       "      <td>6</td>\n",
       "      <td>1.37%</td>\n",
       "      <td>36</td>\n",
       "      <td>8.22%</td>\n",
       "      <td>0</td>\n",
       "      <td>0.00%</td>\n",
       "    </tr>\n",
       "    <tr>\n",
       "      <th>18</th>\n",
       "      <td>Jammu And Kashmir</td>\n",
       "      <td>Unsatisfactory works grading during  2...</td>\n",
       "      <td>254</td>\n",
       "      <td>0</td>\n",
       "      <td>0.00%</td>\n",
       "      <td>3</td>\n",
       "      <td>1.18%</td>\n",
       "      <td>12</td>\n",
       "      <td>4.72%</td>\n",
       "      <td>0</td>\n",
       "      <td>0.00%</td>\n",
       "    </tr>\n",
       "    <tr>\n",
       "      <th>19</th>\n",
       "      <td>Jammu And Kashmir</td>\n",
       "      <td>Unsatisfactory works grading during  2...</td>\n",
       "      <td>901</td>\n",
       "      <td>4</td>\n",
       "      <td>0.44%</td>\n",
       "      <td>22</td>\n",
       "      <td>2.44%</td>\n",
       "      <td>81</td>\n",
       "      <td>8.99%</td>\n",
       "      <td>1</td>\n",
       "      <td>0.11%</td>\n",
       "    </tr>\n",
       "    <tr>\n",
       "      <th>20</th>\n",
       "      <td>Jharkhand</td>\n",
       "      <td>Unsatisfactory works grading during  2...</td>\n",
       "      <td>675</td>\n",
       "      <td>0</td>\n",
       "      <td>0.00%</td>\n",
       "      <td>3</td>\n",
       "      <td>0.44%</td>\n",
       "      <td>14</td>\n",
       "      <td>2.07%</td>\n",
       "      <td>0</td>\n",
       "      <td>0.00%</td>\n",
       "    </tr>\n",
       "    <tr>\n",
       "      <th>21</th>\n",
       "      <td>Jharkhand</td>\n",
       "      <td>Unsatisfactory works grading during  2...</td>\n",
       "      <td>1,245</td>\n",
       "      <td>0</td>\n",
       "      <td>0.00%</td>\n",
       "      <td>1</td>\n",
       "      <td>0.08%</td>\n",
       "      <td>28</td>\n",
       "      <td>2.25%</td>\n",
       "      <td>0</td>\n",
       "      <td>0.00%</td>\n",
       "    </tr>\n",
       "    <tr>\n",
       "      <th>22</th>\n",
       "      <td>Karnataka</td>\n",
       "      <td>Unsatisfactory works grading during  2...</td>\n",
       "      <td>328</td>\n",
       "      <td>0</td>\n",
       "      <td>0.00%</td>\n",
       "      <td>0</td>\n",
       "      <td>0.00%</td>\n",
       "      <td>0</td>\n",
       "      <td>0.00%</td>\n",
       "      <td>0</td>\n",
       "      <td>0.00%</td>\n",
       "    </tr>\n",
       "    <tr>\n",
       "      <th>23</th>\n",
       "      <td>Karnataka</td>\n",
       "      <td>Unsatisfactory works grading during  2...</td>\n",
       "      <td>614</td>\n",
       "      <td>2</td>\n",
       "      <td>0.33%</td>\n",
       "      <td>2</td>\n",
       "      <td>0.33%</td>\n",
       "      <td>1</td>\n",
       "      <td>0.16%</td>\n",
       "      <td>0</td>\n",
       "      <td>0.00%</td>\n",
       "    </tr>\n",
       "    <tr>\n",
       "      <th>24</th>\n",
       "      <td>Kerala</td>\n",
       "      <td>Unsatisfactory works grading during  2...</td>\n",
       "      <td>140</td>\n",
       "      <td>0</td>\n",
       "      <td>0.00%</td>\n",
       "      <td>1</td>\n",
       "      <td>0.71%</td>\n",
       "      <td>21</td>\n",
       "      <td>15.00%</td>\n",
       "      <td>0</td>\n",
       "      <td>0.00%</td>\n",
       "    </tr>\n",
       "    <tr>\n",
       "      <th>25</th>\n",
       "      <td>Kerala</td>\n",
       "      <td>Unsatisfactory works grading during  2...</td>\n",
       "      <td>264</td>\n",
       "      <td>0</td>\n",
       "      <td>0.00%</td>\n",
       "      <td>7</td>\n",
       "      <td>2.65%</td>\n",
       "      <td>18</td>\n",
       "      <td>6.82%</td>\n",
       "      <td>0</td>\n",
       "      <td>0.00%</td>\n",
       "    </tr>\n",
       "    <tr>\n",
       "      <th>26</th>\n",
       "      <td>Ladakh</td>\n",
       "      <td>Unsatisfactory works grading during  2...</td>\n",
       "      <td>0</td>\n",
       "      <td>0</td>\n",
       "      <td>0.00%</td>\n",
       "      <td>0</td>\n",
       "      <td>0.00%</td>\n",
       "      <td>0</td>\n",
       "      <td>0.00%</td>\n",
       "      <td>0</td>\n",
       "      <td>0.00%</td>\n",
       "    </tr>\n",
       "    <tr>\n",
       "      <th>27</th>\n",
       "      <td>Ladakh</td>\n",
       "      <td>Unsatisfactory works grading during  2...</td>\n",
       "      <td>31</td>\n",
       "      <td>0</td>\n",
       "      <td>0.00%</td>\n",
       "      <td>1</td>\n",
       "      <td>3.23%</td>\n",
       "      <td>0</td>\n",
       "      <td>0.00%</td>\n",
       "      <td>0</td>\n",
       "      <td>0.00%</td>\n",
       "    </tr>\n",
       "    <tr>\n",
       "      <th>28</th>\n",
       "      <td>Madhya Pradesh</td>\n",
       "      <td>Unsatisfactory works grading during  2...</td>\n",
       "      <td>1,687</td>\n",
       "      <td>1</td>\n",
       "      <td>0.06%</td>\n",
       "      <td>5</td>\n",
       "      <td>0.30%</td>\n",
       "      <td>73</td>\n",
       "      <td>4.33%</td>\n",
       "      <td>1</td>\n",
       "      <td>0.06%</td>\n",
       "    </tr>\n",
       "    <tr>\n",
       "      <th>29</th>\n",
       "      <td>Madhya Pradesh</td>\n",
       "      <td>Unsatisfactory works grading during  2...</td>\n",
       "      <td>2,591</td>\n",
       "      <td>1</td>\n",
       "      <td>0.04%</td>\n",
       "      <td>7</td>\n",
       "      <td>0.27%</td>\n",
       "      <td>153</td>\n",
       "      <td>5.91%</td>\n",
       "      <td>8</td>\n",
       "      <td>0.31%</td>\n",
       "    </tr>\n",
       "    <tr>\n",
       "      <th>30</th>\n",
       "      <td>Maharashtra</td>\n",
       "      <td>Unsatisfactory works grading during  2...</td>\n",
       "      <td>380</td>\n",
       "      <td>0</td>\n",
       "      <td>0.00%</td>\n",
       "      <td>7</td>\n",
       "      <td>1.84%</td>\n",
       "      <td>0</td>\n",
       "      <td>0.00%</td>\n",
       "      <td>0</td>\n",
       "      <td>0.00%</td>\n",
       "    </tr>\n",
       "    <tr>\n",
       "      <th>31</th>\n",
       "      <td>Maharashtra</td>\n",
       "      <td>Unsatisfactory works grading during  2...</td>\n",
       "      <td>668</td>\n",
       "      <td>0</td>\n",
       "      <td>0.00%</td>\n",
       "      <td>18</td>\n",
       "      <td>2.69%</td>\n",
       "      <td>2</td>\n",
       "      <td>0.30%</td>\n",
       "      <td>0</td>\n",
       "      <td>0.00%</td>\n",
       "    </tr>\n",
       "    <tr>\n",
       "      <th>32</th>\n",
       "      <td>Manipur</td>\n",
       "      <td>Unsatisfactory works grading during  2...</td>\n",
       "      <td>75</td>\n",
       "      <td>0</td>\n",
       "      <td>0.00%</td>\n",
       "      <td>0</td>\n",
       "      <td>0.00%</td>\n",
       "      <td>0</td>\n",
       "      <td>0.00%</td>\n",
       "      <td>0</td>\n",
       "      <td>0.00%</td>\n",
       "    </tr>\n",
       "    <tr>\n",
       "      <th>33</th>\n",
       "      <td>Manipur</td>\n",
       "      <td>Unsatisfactory works grading during  2...</td>\n",
       "      <td>19</td>\n",
       "      <td>0</td>\n",
       "      <td>0.00%</td>\n",
       "      <td>0</td>\n",
       "      <td>0.00%</td>\n",
       "      <td>0</td>\n",
       "      <td>0.00%</td>\n",
       "      <td>0</td>\n",
       "      <td>0.00%</td>\n",
       "    </tr>\n",
       "    <tr>\n",
       "      <th>34</th>\n",
       "      <td>Meghalaya</td>\n",
       "      <td>Unsatisfactory works grading during  2...</td>\n",
       "      <td>154</td>\n",
       "      <td>0</td>\n",
       "      <td>0.00%</td>\n",
       "      <td>1</td>\n",
       "      <td>0.65%</td>\n",
       "      <td>2</td>\n",
       "      <td>1.30%</td>\n",
       "      <td>0</td>\n",
       "      <td>0.00%</td>\n",
       "    </tr>\n",
       "    <tr>\n",
       "      <th>35</th>\n",
       "      <td>Meghalaya</td>\n",
       "      <td>Unsatisfactory works grading during  2...</td>\n",
       "      <td>194</td>\n",
       "      <td>1</td>\n",
       "      <td>0.52%</td>\n",
       "      <td>3</td>\n",
       "      <td>1.55%</td>\n",
       "      <td>1</td>\n",
       "      <td>0.52%</td>\n",
       "      <td>0</td>\n",
       "      <td>0.00%</td>\n",
       "    </tr>\n",
       "    <tr>\n",
       "      <th>36</th>\n",
       "      <td>Mizoram</td>\n",
       "      <td>Unsatisfactory works grading during  2...</td>\n",
       "      <td>49</td>\n",
       "      <td>1</td>\n",
       "      <td>2.04%</td>\n",
       "      <td>1</td>\n",
       "      <td>2.04%</td>\n",
       "      <td>1</td>\n",
       "      <td>2.04%</td>\n",
       "      <td>0</td>\n",
       "      <td>0.00%</td>\n",
       "    </tr>\n",
       "    <tr>\n",
       "      <th>37</th>\n",
       "      <td>Mizoram</td>\n",
       "      <td>Unsatisfactory works grading during  2...</td>\n",
       "      <td>73</td>\n",
       "      <td>1</td>\n",
       "      <td>1.37%</td>\n",
       "      <td>4</td>\n",
       "      <td>5.48%</td>\n",
       "      <td>0</td>\n",
       "      <td>0.00%</td>\n",
       "      <td>0</td>\n",
       "      <td>0.00%</td>\n",
       "    </tr>\n",
       "    <tr>\n",
       "      <th>38</th>\n",
       "      <td>Nagaland</td>\n",
       "      <td>Unsatisfactory works grading during  2...</td>\n",
       "      <td>2</td>\n",
       "      <td>0</td>\n",
       "      <td>0.00%</td>\n",
       "      <td>0</td>\n",
       "      <td>0.00%</td>\n",
       "      <td>0</td>\n",
       "      <td>0.00%</td>\n",
       "      <td>0</td>\n",
       "      <td>0.00%</td>\n",
       "    </tr>\n",
       "    <tr>\n",
       "      <th>39</th>\n",
       "      <td>Nagaland</td>\n",
       "      <td>Unsatisfactory works grading during  2...</td>\n",
       "      <td>36</td>\n",
       "      <td>0</td>\n",
       "      <td>0.00%</td>\n",
       "      <td>0</td>\n",
       "      <td>0.00%</td>\n",
       "      <td>0</td>\n",
       "      <td>0.00%</td>\n",
       "      <td>0</td>\n",
       "      <td>0.00%</td>\n",
       "    </tr>\n",
       "    <tr>\n",
       "      <th>40</th>\n",
       "      <td>Odisha</td>\n",
       "      <td>Unsatisfactory works grading during  2...</td>\n",
       "      <td>1,369</td>\n",
       "      <td>6</td>\n",
       "      <td>0.44%</td>\n",
       "      <td>38</td>\n",
       "      <td>2.78%</td>\n",
       "      <td>249</td>\n",
       "      <td>18.19%</td>\n",
       "      <td>3</td>\n",
       "      <td>0.22%</td>\n",
       "    </tr>\n",
       "    <tr>\n",
       "      <th>41</th>\n",
       "      <td>Odisha</td>\n",
       "      <td>Unsatisfactory works grading during  2...</td>\n",
       "      <td>2,818</td>\n",
       "      <td>11</td>\n",
       "      <td>0.39%</td>\n",
       "      <td>97</td>\n",
       "      <td>3.44%</td>\n",
       "      <td>561</td>\n",
       "      <td>19.91%</td>\n",
       "      <td>3</td>\n",
       "      <td>0.11%</td>\n",
       "    </tr>\n",
       "    <tr>\n",
       "      <th>42</th>\n",
       "      <td>Punjab</td>\n",
       "      <td>Unsatisfactory works grading during  2...</td>\n",
       "      <td>132</td>\n",
       "      <td>0</td>\n",
       "      <td>0.00%</td>\n",
       "      <td>0</td>\n",
       "      <td>0.00%</td>\n",
       "      <td>11</td>\n",
       "      <td>8.33%</td>\n",
       "      <td>0</td>\n",
       "      <td>0.00%</td>\n",
       "    </tr>\n",
       "    <tr>\n",
       "      <th>43</th>\n",
       "      <td>Punjab</td>\n",
       "      <td>Unsatisfactory works grading during  2...</td>\n",
       "      <td>300</td>\n",
       "      <td>0</td>\n",
       "      <td>0.00%</td>\n",
       "      <td>2</td>\n",
       "      <td>0.67%</td>\n",
       "      <td>1</td>\n",
       "      <td>0.33%</td>\n",
       "      <td>0</td>\n",
       "      <td>0.00%</td>\n",
       "    </tr>\n",
       "    <tr>\n",
       "      <th>44</th>\n",
       "      <td>Rajasthan</td>\n",
       "      <td>Unsatisfactory works grading during  2...</td>\n",
       "      <td>229</td>\n",
       "      <td>0</td>\n",
       "      <td>0.00%</td>\n",
       "      <td>0</td>\n",
       "      <td>0.00%</td>\n",
       "      <td>19</td>\n",
       "      <td>8.30%</td>\n",
       "      <td>0</td>\n",
       "      <td>0.00%</td>\n",
       "    </tr>\n",
       "    <tr>\n",
       "      <th>45</th>\n",
       "      <td>Rajasthan</td>\n",
       "      <td>Unsatisfactory works grading during  2...</td>\n",
       "      <td>473</td>\n",
       "      <td>0</td>\n",
       "      <td>0.00%</td>\n",
       "      <td>7</td>\n",
       "      <td>1.48%</td>\n",
       "      <td>11</td>\n",
       "      <td>2.33%</td>\n",
       "      <td>0</td>\n",
       "      <td>0.00%</td>\n",
       "    </tr>\n",
       "    <tr>\n",
       "      <th>46</th>\n",
       "      <td>Sikkim</td>\n",
       "      <td>Unsatisfactory works grading during  2...</td>\n",
       "      <td>49</td>\n",
       "      <td>0</td>\n",
       "      <td>0.00%</td>\n",
       "      <td>3</td>\n",
       "      <td>6.12%</td>\n",
       "      <td>0</td>\n",
       "      <td>0.00%</td>\n",
       "      <td>0</td>\n",
       "      <td>0.00%</td>\n",
       "    </tr>\n",
       "    <tr>\n",
       "      <th>47</th>\n",
       "      <td>Sikkim</td>\n",
       "      <td>Unsatisfactory works grading during  2...</td>\n",
       "      <td>105</td>\n",
       "      <td>0</td>\n",
       "      <td>0.00%</td>\n",
       "      <td>4</td>\n",
       "      <td>3.81%</td>\n",
       "      <td>0</td>\n",
       "      <td>0.00%</td>\n",
       "      <td>0</td>\n",
       "      <td>0.00%</td>\n",
       "    </tr>\n",
       "    <tr>\n",
       "      <th>48</th>\n",
       "      <td>Tamil Nadu</td>\n",
       "      <td>Unsatisfactory works grading during  2...</td>\n",
       "      <td>801</td>\n",
       "      <td>1</td>\n",
       "      <td>0.12%</td>\n",
       "      <td>0</td>\n",
       "      <td>0.00%</td>\n",
       "      <td>49</td>\n",
       "      <td>6.12%</td>\n",
       "      <td>0</td>\n",
       "      <td>0.00%</td>\n",
       "    </tr>\n",
       "    <tr>\n",
       "      <th>49</th>\n",
       "      <td>Tamil Nadu</td>\n",
       "      <td>Unsatisfactory works grading during  2...</td>\n",
       "      <td>809</td>\n",
       "      <td>0</td>\n",
       "      <td>0.00%</td>\n",
       "      <td>0</td>\n",
       "      <td>0.00%</td>\n",
       "      <td>21</td>\n",
       "      <td>2.60%</td>\n",
       "      <td>0</td>\n",
       "      <td>0.00%</td>\n",
       "    </tr>\n",
       "    <tr>\n",
       "      <th>50</th>\n",
       "      <td>Telangana</td>\n",
       "      <td>Unsatisfactory works grading during  2...</td>\n",
       "      <td>333</td>\n",
       "      <td>0</td>\n",
       "      <td>0.00%</td>\n",
       "      <td>1</td>\n",
       "      <td>0.30%</td>\n",
       "      <td>53</td>\n",
       "      <td>15.92%</td>\n",
       "      <td>1</td>\n",
       "      <td>0.30%</td>\n",
       "    </tr>\n",
       "    <tr>\n",
       "      <th>51</th>\n",
       "      <td>Telangana</td>\n",
       "      <td>Unsatisfactory works grading during  2...</td>\n",
       "      <td>326</td>\n",
       "      <td>0</td>\n",
       "      <td>0.00%</td>\n",
       "      <td>3</td>\n",
       "      <td>0.92%</td>\n",
       "      <td>21</td>\n",
       "      <td>6.44%</td>\n",
       "      <td>0</td>\n",
       "      <td>0.00%</td>\n",
       "    </tr>\n",
       "    <tr>\n",
       "      <th>52</th>\n",
       "      <td>Tripura</td>\n",
       "      <td>Unsatisfactory works grading during  2...</td>\n",
       "      <td>42</td>\n",
       "      <td>0</td>\n",
       "      <td>0.00%</td>\n",
       "      <td>1</td>\n",
       "      <td>2.38%</td>\n",
       "      <td>19</td>\n",
       "      <td>45.24%</td>\n",
       "      <td>0</td>\n",
       "      <td>0.00%</td>\n",
       "    </tr>\n",
       "    <tr>\n",
       "      <th>53</th>\n",
       "      <td>Tripura</td>\n",
       "      <td>Unsatisfactory works grading during  2...</td>\n",
       "      <td>176</td>\n",
       "      <td>0</td>\n",
       "      <td>0.00%</td>\n",
       "      <td>0</td>\n",
       "      <td>0.00%</td>\n",
       "      <td>29</td>\n",
       "      <td>16.48%</td>\n",
       "      <td>0</td>\n",
       "      <td>0.00%</td>\n",
       "    </tr>\n",
       "    <tr>\n",
       "      <th>54</th>\n",
       "      <td>Uttar Pradesh</td>\n",
       "      <td>Unsatisfactory works grading during  2...</td>\n",
       "      <td>1,361</td>\n",
       "      <td>0</td>\n",
       "      <td>0.00%</td>\n",
       "      <td>23</td>\n",
       "      <td>1.69%</td>\n",
       "      <td>63</td>\n",
       "      <td>4.63%</td>\n",
       "      <td>0</td>\n",
       "      <td>0.00%</td>\n",
       "    </tr>\n",
       "    <tr>\n",
       "      <th>55</th>\n",
       "      <td>Uttar Pradesh</td>\n",
       "      <td>Unsatisfactory works grading during  2...</td>\n",
       "      <td>3,670</td>\n",
       "      <td>8</td>\n",
       "      <td>0.22%</td>\n",
       "      <td>47</td>\n",
       "      <td>1.28%</td>\n",
       "      <td>98</td>\n",
       "      <td>2.67%</td>\n",
       "      <td>0</td>\n",
       "      <td>0.00%</td>\n",
       "    </tr>\n",
       "    <tr>\n",
       "      <th>56</th>\n",
       "      <td>Uttarakhand</td>\n",
       "      <td>Unsatisfactory works grading during  2...</td>\n",
       "      <td>422</td>\n",
       "      <td>6</td>\n",
       "      <td>1.42%</td>\n",
       "      <td>11</td>\n",
       "      <td>2.61%</td>\n",
       "      <td>26</td>\n",
       "      <td>6.16%</td>\n",
       "      <td>3</td>\n",
       "      <td>0.71%</td>\n",
       "    </tr>\n",
       "    <tr>\n",
       "      <th>57</th>\n",
       "      <td>Uttarakhand</td>\n",
       "      <td>Unsatisfactory works grading during  2...</td>\n",
       "      <td>761</td>\n",
       "      <td>6</td>\n",
       "      <td>0.79%</td>\n",
       "      <td>16</td>\n",
       "      <td>2.10%</td>\n",
       "      <td>66</td>\n",
       "      <td>8.67%</td>\n",
       "      <td>19</td>\n",
       "      <td>2.50%</td>\n",
       "    </tr>\n",
       "    <tr>\n",
       "      <th>58</th>\n",
       "      <td>West Bengal</td>\n",
       "      <td>Unsatisfactory works grading during  2...</td>\n",
       "      <td>578</td>\n",
       "      <td>4</td>\n",
       "      <td>0.69%</td>\n",
       "      <td>0</td>\n",
       "      <td>0.00%</td>\n",
       "      <td>50</td>\n",
       "      <td>8.65%</td>\n",
       "      <td>0</td>\n",
       "      <td>0.00%</td>\n",
       "    </tr>\n",
       "    <tr>\n",
       "      <th>59</th>\n",
       "      <td>West Bengal</td>\n",
       "      <td>Unsatisfactory works grading during  2...</td>\n",
       "      <td>1,291</td>\n",
       "      <td>0</td>\n",
       "      <td>0.00%</td>\n",
       "      <td>11</td>\n",
       "      <td>0.85%</td>\n",
       "      <td>224</td>\n",
       "      <td>17.35%</td>\n",
       "      <td>0</td>\n",
       "      <td>0.00%</td>\n",
       "    </tr>\n",
       "  </tbody>\n",
       "</table>\n",
       "</div>"
      ],
      "text/plain": [
       "               Location                                        Description  \\\n",
       "0   Andaman And Nicobar          Unsatisfactory works grading during  2...   \n",
       "1   Andaman And Nicobar          Unsatisfactory works grading during  2...   \n",
       "2        Andhra Pradesh          Unsatisfactory works grading during  2...   \n",
       "3        Andhra Pradesh          Unsatisfactory works grading during  2...   \n",
       "4     Arunachal Pradesh          Unsatisfactory works grading during  2...   \n",
       "5     Arunachal Pradesh          Unsatisfactory works grading during  2...   \n",
       "6                 Assam          Unsatisfactory works grading during  2...   \n",
       "7                 Assam          Unsatisfactory works grading during  2...   \n",
       "8                 Bihar          Unsatisfactory works grading during  2...   \n",
       "9                 Bihar          Unsatisfactory works grading during  2...   \n",
       "10         Chhattisgarh          Unsatisfactory works grading during  2...   \n",
       "11         Chhattisgarh          Unsatisfactory works grading during  2...   \n",
       "12              Gujarat          Unsatisfactory works grading during  2...   \n",
       "13              Gujarat          Unsatisfactory works grading during  2...   \n",
       "14              Haryana          Unsatisfactory works grading during  2...   \n",
       "15              Haryana          Unsatisfactory works grading during  2...   \n",
       "16     Himachal Pradesh          Unsatisfactory works grading during  2...   \n",
       "17     Himachal Pradesh          Unsatisfactory works grading during  2...   \n",
       "18    Jammu And Kashmir          Unsatisfactory works grading during  2...   \n",
       "19    Jammu And Kashmir          Unsatisfactory works grading during  2...   \n",
       "20            Jharkhand          Unsatisfactory works grading during  2...   \n",
       "21            Jharkhand          Unsatisfactory works grading during  2...   \n",
       "22            Karnataka          Unsatisfactory works grading during  2...   \n",
       "23            Karnataka          Unsatisfactory works grading during  2...   \n",
       "24               Kerala          Unsatisfactory works grading during  2...   \n",
       "25               Kerala          Unsatisfactory works grading during  2...   \n",
       "26               Ladakh          Unsatisfactory works grading during  2...   \n",
       "27               Ladakh          Unsatisfactory works grading during  2...   \n",
       "28       Madhya Pradesh          Unsatisfactory works grading during  2...   \n",
       "29       Madhya Pradesh          Unsatisfactory works grading during  2...   \n",
       "30          Maharashtra          Unsatisfactory works grading during  2...   \n",
       "31          Maharashtra          Unsatisfactory works grading during  2...   \n",
       "32              Manipur          Unsatisfactory works grading during  2...   \n",
       "33              Manipur          Unsatisfactory works grading during  2...   \n",
       "34            Meghalaya          Unsatisfactory works grading during  2...   \n",
       "35            Meghalaya          Unsatisfactory works grading during  2...   \n",
       "36              Mizoram          Unsatisfactory works grading during  2...   \n",
       "37              Mizoram          Unsatisfactory works grading during  2...   \n",
       "38             Nagaland          Unsatisfactory works grading during  2...   \n",
       "39             Nagaland          Unsatisfactory works grading during  2...   \n",
       "40               Odisha          Unsatisfactory works grading during  2...   \n",
       "41               Odisha          Unsatisfactory works grading during  2...   \n",
       "42               Punjab          Unsatisfactory works grading during  2...   \n",
       "43               Punjab          Unsatisfactory works grading during  2...   \n",
       "44            Rajasthan          Unsatisfactory works grading during  2...   \n",
       "45            Rajasthan          Unsatisfactory works grading during  2...   \n",
       "46               Sikkim          Unsatisfactory works grading during  2...   \n",
       "47               Sikkim          Unsatisfactory works grading during  2...   \n",
       "48           Tamil Nadu          Unsatisfactory works grading during  2...   \n",
       "49           Tamil Nadu          Unsatisfactory works grading during  2...   \n",
       "50            Telangana          Unsatisfactory works grading during  2...   \n",
       "51            Telangana          Unsatisfactory works grading during  2...   \n",
       "52              Tripura          Unsatisfactory works grading during  2...   \n",
       "53              Tripura          Unsatisfactory works grading during  2...   \n",
       "54        Uttar Pradesh          Unsatisfactory works grading during  2...   \n",
       "55        Uttar Pradesh          Unsatisfactory works grading during  2...   \n",
       "56          Uttarakhand          Unsatisfactory works grading during  2...   \n",
       "57          Uttarakhand          Unsatisfactory works grading during  2...   \n",
       "58          West Bengal          Unsatisfactory works grading during  2...   \n",
       "59          West Bengal          Unsatisfactory works grading during  2...   \n",
       "\n",
       "   Total_Inspection_Completed_Works  Completed_Works_U% Ongoing_Works  \\\n",
       "0                                21                   0         0.00%   \n",
       "1                                45                   2         4.44%   \n",
       "2                               130                   0         0.00%   \n",
       "3                               341                   0         0.00%   \n",
       "4                               146                   0         0.00%   \n",
       "5                               256                   0         0.00%   \n",
       "6                               871                   0         0.00%   \n",
       "7                             2,042                   4         0.20%   \n",
       "8                             1,315                   0         0.00%   \n",
       "9                             3,173                  13         0.41%   \n",
       "10                              749                   0         0.00%   \n",
       "11                            1,328                   0         0.00%   \n",
       "12                              166                   0         0.00%   \n",
       "13                              287                   3         1.05%   \n",
       "14                               75                   0         0.00%   \n",
       "15                              218                   0         0.00%   \n",
       "16                              227                   0         0.00%   \n",
       "17                              438                   3         0.68%   \n",
       "18                              254                   0         0.00%   \n",
       "19                              901                   4         0.44%   \n",
       "20                              675                   0         0.00%   \n",
       "21                            1,245                   0         0.00%   \n",
       "22                              328                   0         0.00%   \n",
       "23                              614                   2         0.33%   \n",
       "24                              140                   0         0.00%   \n",
       "25                              264                   0         0.00%   \n",
       "26                                0                   0         0.00%   \n",
       "27                               31                   0         0.00%   \n",
       "28                            1,687                   1         0.06%   \n",
       "29                            2,591                   1         0.04%   \n",
       "30                              380                   0         0.00%   \n",
       "31                              668                   0         0.00%   \n",
       "32                               75                   0         0.00%   \n",
       "33                               19                   0         0.00%   \n",
       "34                              154                   0         0.00%   \n",
       "35                              194                   1         0.52%   \n",
       "36                               49                   1         2.04%   \n",
       "37                               73                   1         1.37%   \n",
       "38                                2                   0         0.00%   \n",
       "39                               36                   0         0.00%   \n",
       "40                            1,369                   6         0.44%   \n",
       "41                            2,818                  11         0.39%   \n",
       "42                              132                   0         0.00%   \n",
       "43                              300                   0         0.00%   \n",
       "44                              229                   0         0.00%   \n",
       "45                              473                   0         0.00%   \n",
       "46                               49                   0         0.00%   \n",
       "47                              105                   0         0.00%   \n",
       "48                              801                   1         0.12%   \n",
       "49                              809                   0         0.00%   \n",
       "50                              333                   0         0.00%   \n",
       "51                              326                   0         0.00%   \n",
       "52                               42                   0         0.00%   \n",
       "53                              176                   0         0.00%   \n",
       "54                            1,361                   0         0.00%   \n",
       "55                            3,670                   8         0.22%   \n",
       "56                              422                   6         1.42%   \n",
       "57                              761                   6         0.79%   \n",
       "58                              578                   4         0.69%   \n",
       "59                            1,291                   0         0.00%   \n",
       "\n",
       "    Ongoing_U% Maintenance_Works  Maintenance_U% Bridge_Works  Bridge_U%  \\\n",
       "0            3            14.29%               0        0.00%          0   \n",
       "1            0             0.00%               0        0.00%          0   \n",
       "2            1             0.77%               0        0.00%          0   \n",
       "3            2             0.59%               8        2.35%          0   \n",
       "4            0             0.00%               4        2.74%          0   \n",
       "5            1             0.39%               5        1.95%          5   \n",
       "6            7             0.80%              59        6.77%          4   \n",
       "7            6             0.29%             176        8.62%          2   \n",
       "8            9             0.68%             176       13.38%         41   \n",
       "9           11             0.35%             282        8.89%         95   \n",
       "10           0             0.00%               2        0.27%          0   \n",
       "11           0             0.00%               4        0.30%          0   \n",
       "12           0             0.00%               7        4.22%          0   \n",
       "13           5             1.74%               4        1.39%          0   \n",
       "14           0             0.00%               0        0.00%          0   \n",
       "15           0             0.00%               7        3.21%          0   \n",
       "16           8             3.52%              20        8.81%          2   \n",
       "17           6             1.37%              36        8.22%          0   \n",
       "18           3             1.18%              12        4.72%          0   \n",
       "19          22             2.44%              81        8.99%          1   \n",
       "20           3             0.44%              14        2.07%          0   \n",
       "21           1             0.08%              28        2.25%          0   \n",
       "22           0             0.00%               0        0.00%          0   \n",
       "23           2             0.33%               1        0.16%          0   \n",
       "24           1             0.71%              21       15.00%          0   \n",
       "25           7             2.65%              18        6.82%          0   \n",
       "26           0             0.00%               0        0.00%          0   \n",
       "27           1             3.23%               0        0.00%          0   \n",
       "28           5             0.30%              73        4.33%          1   \n",
       "29           7             0.27%             153        5.91%          8   \n",
       "30           7             1.84%               0        0.00%          0   \n",
       "31          18             2.69%               2        0.30%          0   \n",
       "32           0             0.00%               0        0.00%          0   \n",
       "33           0             0.00%               0        0.00%          0   \n",
       "34           1             0.65%               2        1.30%          0   \n",
       "35           3             1.55%               1        0.52%          0   \n",
       "36           1             2.04%               1        2.04%          0   \n",
       "37           4             5.48%               0        0.00%          0   \n",
       "38           0             0.00%               0        0.00%          0   \n",
       "39           0             0.00%               0        0.00%          0   \n",
       "40          38             2.78%             249       18.19%          3   \n",
       "41          97             3.44%             561       19.91%          3   \n",
       "42           0             0.00%              11        8.33%          0   \n",
       "43           2             0.67%               1        0.33%          0   \n",
       "44           0             0.00%              19        8.30%          0   \n",
       "45           7             1.48%              11        2.33%          0   \n",
       "46           3             6.12%               0        0.00%          0   \n",
       "47           4             3.81%               0        0.00%          0   \n",
       "48           0             0.00%              49        6.12%          0   \n",
       "49           0             0.00%              21        2.60%          0   \n",
       "50           1             0.30%              53       15.92%          1   \n",
       "51           3             0.92%              21        6.44%          0   \n",
       "52           1             2.38%              19       45.24%          0   \n",
       "53           0             0.00%              29       16.48%          0   \n",
       "54          23             1.69%              63        4.63%          0   \n",
       "55          47             1.28%              98        2.67%          0   \n",
       "56          11             2.61%              26        6.16%          3   \n",
       "57          16             2.10%              66        8.67%         19   \n",
       "58           0             0.00%              50        8.65%          0   \n",
       "59          11             0.85%             224       17.35%          0   \n",
       "\n",
       "   Total_Inspection  \n",
       "0             0.00%  \n",
       "1             0.00%  \n",
       "2             0.00%  \n",
       "3             0.00%  \n",
       "4             0.00%  \n",
       "5             1.95%  \n",
       "6             0.46%  \n",
       "7             0.10%  \n",
       "8             3.12%  \n",
       "9             2.99%  \n",
       "10            0.00%  \n",
       "11            0.00%  \n",
       "12            0.00%  \n",
       "13            0.00%  \n",
       "14            0.00%  \n",
       "15            0.00%  \n",
       "16            0.88%  \n",
       "17            0.00%  \n",
       "18            0.00%  \n",
       "19            0.11%  \n",
       "20            0.00%  \n",
       "21            0.00%  \n",
       "22            0.00%  \n",
       "23            0.00%  \n",
       "24            0.00%  \n",
       "25            0.00%  \n",
       "26            0.00%  \n",
       "27            0.00%  \n",
       "28            0.06%  \n",
       "29            0.31%  \n",
       "30            0.00%  \n",
       "31            0.00%  \n",
       "32            0.00%  \n",
       "33            0.00%  \n",
       "34            0.00%  \n",
       "35            0.00%  \n",
       "36            0.00%  \n",
       "37            0.00%  \n",
       "38            0.00%  \n",
       "39            0.00%  \n",
       "40            0.22%  \n",
       "41            0.11%  \n",
       "42            0.00%  \n",
       "43            0.00%  \n",
       "44            0.00%  \n",
       "45            0.00%  \n",
       "46            0.00%  \n",
       "47            0.00%  \n",
       "48            0.00%  \n",
       "49            0.00%  \n",
       "50            0.30%  \n",
       "51            0.00%  \n",
       "52            0.00%  \n",
       "53            0.00%  \n",
       "54            0.00%  \n",
       "55            0.00%  \n",
       "56            0.71%  \n",
       "57            2.50%  \n",
       "58            0.00%  \n",
       "59            0.00%  "
      ]
     },
     "execution_count": 57,
     "metadata": {},
     "output_type": "execute_result"
    }
   ],
   "source": [
    "df "
   ]
  },
  {
   "cell_type": "code",
   "execution_count": 58,
   "metadata": {},
   "outputs": [
    {
     "name": "stdout",
     "output_type": "stream",
     "text": [
      "Location                             object\n",
      "Description                          object\n",
      "Total_Inspection_Completed_Works    float64\n",
      "Completed_Works_U%                    int64\n",
      "Ongoing_Works                       float64\n",
      "Ongoing_U%                            int64\n",
      "Maintenance_Works                   float64\n",
      "Maintenance_U%                        int64\n",
      "Bridge_Works                        float64\n",
      "Bridge_U%                             int64\n",
      "Total_Inspection                     object\n",
      "dtype: object\n"
     ]
    }
   ],
   "source": [
    "import pandas as pd\n",
    "\n",
    "# Assuming df is your DataFrame\n",
    "# Check and convert 'Total_Inspection_Completed_Works'\n",
    "if pd.api.types.is_numeric_dtype(df['Total_Inspection_Completed_Works']):\n",
    "    df['Total_Inspection_Completed_Works'] = df['Total_Inspection_Completed_Works'].astype(float)\n",
    "else:\n",
    "    df['Total_Inspection_Completed_Works'] = df['Total_Inspection_Completed_Works'].str.replace(',', '').astype(float)\n",
    "\n",
    "# List of columns to convert to numeric after removing '%'\n",
    "percentage_columns = ['Completed_Works_U%', 'Ongoing_Works', 'Ongoing_U%', 'Maintenance_Works', 'Maintenance_U%', 'Bridge_Works', 'Bridge_U%']\n",
    "\n",
    "# Loop through the columns and convert to numeric after removing '%'\n",
    "for col in percentage_columns:\n",
    "    # Check if the column is already numeric\n",
    "    if not pd.api.types.is_numeric_dtype(df[col]):\n",
    "        df[col] = df[col].str.rstrip('%').astype('float') / 100.0\n",
    "\n",
    "# Print the data types after conversion\n",
    "print(df.dtypes)\n"
   ]
  },
  {
   "cell_type": "code",
   "execution_count": 59,
   "metadata": {},
   "outputs": [
    {
     "name": "stderr",
     "output_type": "stream",
     "text": [
      "/Users/pranaymishra/Desktop/care/.conda/lib/python3.10/site-packages/sklearn/impute/_base.py:558: UserWarning: Skipping features without any observed values: ['Total_Inspection']. At least one non-missing value is needed for imputation with strategy='mean'.\n",
      "  warnings.warn(\n"
     ]
    },
    {
     "name": "stdout",
     "output_type": "stream",
     "text": [
      "Isolation Forest Accuracy: 1.0\n"
     ]
    },
    {
     "data": {
      "application/vnd.plotly.v1+json": {
       "config": {
        "plotlyServerURL": "https://plot.ly"
       },
       "data": [
        {
         "hovertemplate": "Completed Works=%{x}<br>Ongoing Works=%{y}<br>Maintenance Works=%{z}<br>outlier=%{marker.color}<extra></extra>",
         "legendgroup": "",
         "marker": {
          "color": [
           1,
           1,
           1,
           1,
           1,
           1,
           1,
           1,
           1,
           -1,
           1,
           1,
           1,
           1,
           1,
           1,
           1,
           1,
           1,
           1,
           1,
           1,
           1,
           1,
           1,
           1,
           1,
           1,
           1,
           1,
           1,
           1,
           1,
           1,
           1,
           1,
           1,
           1,
           1,
           1,
           1,
           -1,
           1,
           1,
           1,
           1,
           1,
           1,
           1,
           1,
           1,
           1,
           1,
           1,
           1,
           -1,
           1,
           1,
           1,
           1
          ],
          "coloraxis": "coloraxis",
          "symbol": "circle"
         },
         "mode": "markers",
         "name": "",
         "scene": "scene",
         "showlegend": false,
         "type": "scatter3d",
         "x": [
          21,
          45,
          130,
          341,
          146,
          256,
          871,
          2042,
          1315,
          3173,
          749,
          1328,
          166,
          287,
          75,
          218,
          227,
          438,
          254,
          901,
          675,
          1245,
          328,
          614,
          140,
          264,
          0,
          31,
          1687,
          2591,
          380,
          668,
          75,
          19,
          154,
          194,
          49,
          73,
          2,
          36,
          1369,
          2818,
          132,
          300,
          229,
          473,
          49,
          105,
          801,
          809,
          333,
          326,
          42,
          176,
          1361,
          3670,
          422,
          761,
          578,
          1291
         ],
         "y": [
          0,
          0.0444,
          0,
          0,
          0,
          0,
          0,
          0.002,
          0,
          0.0040999999999999995,
          0,
          0,
          0,
          0.0105,
          0,
          0,
          0,
          0.0068000000000000005,
          0,
          0.0044,
          0,
          0,
          0,
          0.0033,
          0,
          0,
          0,
          0,
          0.0006,
          0.0004,
          0,
          0,
          0,
          0,
          0,
          0.0052,
          0.0204,
          0.0137,
          0,
          0,
          0.0044,
          0.0039000000000000003,
          0,
          0,
          0,
          0,
          0,
          0,
          0.0012,
          0,
          0,
          0,
          0,
          0,
          0,
          0.0022,
          0.014199999999999999,
          0.0079,
          0.0069,
          0
         ],
         "z": [
          0.1429,
          0,
          0.0077,
          0.0059,
          0,
          0.0039000000000000003,
          0.008,
          0.0029,
          0.0068000000000000005,
          0.0034999999999999996,
          0,
          0,
          0,
          0.0174,
          0,
          0,
          0.0352,
          0.0137,
          0.0118,
          0.024399999999999998,
          0.0044,
          0.0008,
          0,
          0.0033,
          0.0070999999999999995,
          0.0265,
          0,
          0.0323,
          0.003,
          0.0027,
          0.0184,
          0.0269,
          0,
          0,
          0.006500000000000001,
          0.0155,
          0.0204,
          0.0548,
          0,
          0,
          0.0278,
          0.0344,
          0,
          0.0067,
          0,
          0.0148,
          0.061200000000000004,
          0.0381,
          0,
          0,
          0.003,
          0.0092,
          0.023799999999999998,
          0,
          0.0169,
          0.0128,
          0.026099999999999998,
          0.021,
          0,
          0.0085
         ]
        }
       ],
       "layout": {
        "coloraxis": {
         "colorbar": {
          "title": {
           "text": "outlier"
          }
         },
         "colorscale": [
          [
           0,
           "#0d0887"
          ],
          [
           0.1111111111111111,
           "#46039f"
          ],
          [
           0.2222222222222222,
           "#7201a8"
          ],
          [
           0.3333333333333333,
           "#9c179e"
          ],
          [
           0.4444444444444444,
           "#bd3786"
          ],
          [
           0.5555555555555556,
           "#d8576b"
          ],
          [
           0.6666666666666666,
           "#ed7953"
          ],
          [
           0.7777777777777778,
           "#fb9f3a"
          ],
          [
           0.8888888888888888,
           "#fdca26"
          ],
          [
           1,
           "#f0f921"
          ]
         ]
        },
        "legend": {
         "tracegroupgap": 0
        },
        "scene": {
         "aspectmode": "cube",
         "domain": {
          "x": [
           0,
           1
          ],
          "y": [
           0,
           1
          ]
         },
         "xaxis": {
          "title": {
           "text": "Completed Works"
          }
         },
         "yaxis": {
          "title": {
           "text": "Ongoing Works"
          }
         },
         "zaxis": {
          "title": {
           "text": "Maintenance Works"
          }
         }
        },
        "template": {
         "data": {
          "bar": [
           {
            "error_x": {
             "color": "#2a3f5f"
            },
            "error_y": {
             "color": "#2a3f5f"
            },
            "marker": {
             "line": {
              "color": "#E5ECF6",
              "width": 0.5
             },
             "pattern": {
              "fillmode": "overlay",
              "size": 10,
              "solidity": 0.2
             }
            },
            "type": "bar"
           }
          ],
          "barpolar": [
           {
            "marker": {
             "line": {
              "color": "#E5ECF6",
              "width": 0.5
             },
             "pattern": {
              "fillmode": "overlay",
              "size": 10,
              "solidity": 0.2
             }
            },
            "type": "barpolar"
           }
          ],
          "carpet": [
           {
            "aaxis": {
             "endlinecolor": "#2a3f5f",
             "gridcolor": "white",
             "linecolor": "white",
             "minorgridcolor": "white",
             "startlinecolor": "#2a3f5f"
            },
            "baxis": {
             "endlinecolor": "#2a3f5f",
             "gridcolor": "white",
             "linecolor": "white",
             "minorgridcolor": "white",
             "startlinecolor": "#2a3f5f"
            },
            "type": "carpet"
           }
          ],
          "choropleth": [
           {
            "colorbar": {
             "outlinewidth": 0,
             "ticks": ""
            },
            "type": "choropleth"
           }
          ],
          "contour": [
           {
            "colorbar": {
             "outlinewidth": 0,
             "ticks": ""
            },
            "colorscale": [
             [
              0,
              "#0d0887"
             ],
             [
              0.1111111111111111,
              "#46039f"
             ],
             [
              0.2222222222222222,
              "#7201a8"
             ],
             [
              0.3333333333333333,
              "#9c179e"
             ],
             [
              0.4444444444444444,
              "#bd3786"
             ],
             [
              0.5555555555555556,
              "#d8576b"
             ],
             [
              0.6666666666666666,
              "#ed7953"
             ],
             [
              0.7777777777777778,
              "#fb9f3a"
             ],
             [
              0.8888888888888888,
              "#fdca26"
             ],
             [
              1,
              "#f0f921"
             ]
            ],
            "type": "contour"
           }
          ],
          "contourcarpet": [
           {
            "colorbar": {
             "outlinewidth": 0,
             "ticks": ""
            },
            "type": "contourcarpet"
           }
          ],
          "heatmap": [
           {
            "colorbar": {
             "outlinewidth": 0,
             "ticks": ""
            },
            "colorscale": [
             [
              0,
              "#0d0887"
             ],
             [
              0.1111111111111111,
              "#46039f"
             ],
             [
              0.2222222222222222,
              "#7201a8"
             ],
             [
              0.3333333333333333,
              "#9c179e"
             ],
             [
              0.4444444444444444,
              "#bd3786"
             ],
             [
              0.5555555555555556,
              "#d8576b"
             ],
             [
              0.6666666666666666,
              "#ed7953"
             ],
             [
              0.7777777777777778,
              "#fb9f3a"
             ],
             [
              0.8888888888888888,
              "#fdca26"
             ],
             [
              1,
              "#f0f921"
             ]
            ],
            "type": "heatmap"
           }
          ],
          "heatmapgl": [
           {
            "colorbar": {
             "outlinewidth": 0,
             "ticks": ""
            },
            "colorscale": [
             [
              0,
              "#0d0887"
             ],
             [
              0.1111111111111111,
              "#46039f"
             ],
             [
              0.2222222222222222,
              "#7201a8"
             ],
             [
              0.3333333333333333,
              "#9c179e"
             ],
             [
              0.4444444444444444,
              "#bd3786"
             ],
             [
              0.5555555555555556,
              "#d8576b"
             ],
             [
              0.6666666666666666,
              "#ed7953"
             ],
             [
              0.7777777777777778,
              "#fb9f3a"
             ],
             [
              0.8888888888888888,
              "#fdca26"
             ],
             [
              1,
              "#f0f921"
             ]
            ],
            "type": "heatmapgl"
           }
          ],
          "histogram": [
           {
            "marker": {
             "pattern": {
              "fillmode": "overlay",
              "size": 10,
              "solidity": 0.2
             }
            },
            "type": "histogram"
           }
          ],
          "histogram2d": [
           {
            "colorbar": {
             "outlinewidth": 0,
             "ticks": ""
            },
            "colorscale": [
             [
              0,
              "#0d0887"
             ],
             [
              0.1111111111111111,
              "#46039f"
             ],
             [
              0.2222222222222222,
              "#7201a8"
             ],
             [
              0.3333333333333333,
              "#9c179e"
             ],
             [
              0.4444444444444444,
              "#bd3786"
             ],
             [
              0.5555555555555556,
              "#d8576b"
             ],
             [
              0.6666666666666666,
              "#ed7953"
             ],
             [
              0.7777777777777778,
              "#fb9f3a"
             ],
             [
              0.8888888888888888,
              "#fdca26"
             ],
             [
              1,
              "#f0f921"
             ]
            ],
            "type": "histogram2d"
           }
          ],
          "histogram2dcontour": [
           {
            "colorbar": {
             "outlinewidth": 0,
             "ticks": ""
            },
            "colorscale": [
             [
              0,
              "#0d0887"
             ],
             [
              0.1111111111111111,
              "#46039f"
             ],
             [
              0.2222222222222222,
              "#7201a8"
             ],
             [
              0.3333333333333333,
              "#9c179e"
             ],
             [
              0.4444444444444444,
              "#bd3786"
             ],
             [
              0.5555555555555556,
              "#d8576b"
             ],
             [
              0.6666666666666666,
              "#ed7953"
             ],
             [
              0.7777777777777778,
              "#fb9f3a"
             ],
             [
              0.8888888888888888,
              "#fdca26"
             ],
             [
              1,
              "#f0f921"
             ]
            ],
            "type": "histogram2dcontour"
           }
          ],
          "mesh3d": [
           {
            "colorbar": {
             "outlinewidth": 0,
             "ticks": ""
            },
            "type": "mesh3d"
           }
          ],
          "parcoords": [
           {
            "line": {
             "colorbar": {
              "outlinewidth": 0,
              "ticks": ""
             }
            },
            "type": "parcoords"
           }
          ],
          "pie": [
           {
            "automargin": true,
            "type": "pie"
           }
          ],
          "scatter": [
           {
            "fillpattern": {
             "fillmode": "overlay",
             "size": 10,
             "solidity": 0.2
            },
            "type": "scatter"
           }
          ],
          "scatter3d": [
           {
            "line": {
             "colorbar": {
              "outlinewidth": 0,
              "ticks": ""
             }
            },
            "marker": {
             "colorbar": {
              "outlinewidth": 0,
              "ticks": ""
             }
            },
            "type": "scatter3d"
           }
          ],
          "scattercarpet": [
           {
            "marker": {
             "colorbar": {
              "outlinewidth": 0,
              "ticks": ""
             }
            },
            "type": "scattercarpet"
           }
          ],
          "scattergeo": [
           {
            "marker": {
             "colorbar": {
              "outlinewidth": 0,
              "ticks": ""
             }
            },
            "type": "scattergeo"
           }
          ],
          "scattergl": [
           {
            "marker": {
             "colorbar": {
              "outlinewidth": 0,
              "ticks": ""
             }
            },
            "type": "scattergl"
           }
          ],
          "scattermapbox": [
           {
            "marker": {
             "colorbar": {
              "outlinewidth": 0,
              "ticks": ""
             }
            },
            "type": "scattermapbox"
           }
          ],
          "scatterpolar": [
           {
            "marker": {
             "colorbar": {
              "outlinewidth": 0,
              "ticks": ""
             }
            },
            "type": "scatterpolar"
           }
          ],
          "scatterpolargl": [
           {
            "marker": {
             "colorbar": {
              "outlinewidth": 0,
              "ticks": ""
             }
            },
            "type": "scatterpolargl"
           }
          ],
          "scatterternary": [
           {
            "marker": {
             "colorbar": {
              "outlinewidth": 0,
              "ticks": ""
             }
            },
            "type": "scatterternary"
           }
          ],
          "surface": [
           {
            "colorbar": {
             "outlinewidth": 0,
             "ticks": ""
            },
            "colorscale": [
             [
              0,
              "#0d0887"
             ],
             [
              0.1111111111111111,
              "#46039f"
             ],
             [
              0.2222222222222222,
              "#7201a8"
             ],
             [
              0.3333333333333333,
              "#9c179e"
             ],
             [
              0.4444444444444444,
              "#bd3786"
             ],
             [
              0.5555555555555556,
              "#d8576b"
             ],
             [
              0.6666666666666666,
              "#ed7953"
             ],
             [
              0.7777777777777778,
              "#fb9f3a"
             ],
             [
              0.8888888888888888,
              "#fdca26"
             ],
             [
              1,
              "#f0f921"
             ]
            ],
            "type": "surface"
           }
          ],
          "table": [
           {
            "cells": {
             "fill": {
              "color": "#EBF0F8"
             },
             "line": {
              "color": "white"
             }
            },
            "header": {
             "fill": {
              "color": "#C8D4E3"
             },
             "line": {
              "color": "white"
             }
            },
            "type": "table"
           }
          ]
         },
         "layout": {
          "annotationdefaults": {
           "arrowcolor": "#2a3f5f",
           "arrowhead": 0,
           "arrowwidth": 1
          },
          "autotypenumbers": "strict",
          "coloraxis": {
           "colorbar": {
            "outlinewidth": 0,
            "ticks": ""
           }
          },
          "colorscale": {
           "diverging": [
            [
             0,
             "#8e0152"
            ],
            [
             0.1,
             "#c51b7d"
            ],
            [
             0.2,
             "#de77ae"
            ],
            [
             0.3,
             "#f1b6da"
            ],
            [
             0.4,
             "#fde0ef"
            ],
            [
             0.5,
             "#f7f7f7"
            ],
            [
             0.6,
             "#e6f5d0"
            ],
            [
             0.7,
             "#b8e186"
            ],
            [
             0.8,
             "#7fbc41"
            ],
            [
             0.9,
             "#4d9221"
            ],
            [
             1,
             "#276419"
            ]
           ],
           "sequential": [
            [
             0,
             "#0d0887"
            ],
            [
             0.1111111111111111,
             "#46039f"
            ],
            [
             0.2222222222222222,
             "#7201a8"
            ],
            [
             0.3333333333333333,
             "#9c179e"
            ],
            [
             0.4444444444444444,
             "#bd3786"
            ],
            [
             0.5555555555555556,
             "#d8576b"
            ],
            [
             0.6666666666666666,
             "#ed7953"
            ],
            [
             0.7777777777777778,
             "#fb9f3a"
            ],
            [
             0.8888888888888888,
             "#fdca26"
            ],
            [
             1,
             "#f0f921"
            ]
           ],
           "sequentialminus": [
            [
             0,
             "#0d0887"
            ],
            [
             0.1111111111111111,
             "#46039f"
            ],
            [
             0.2222222222222222,
             "#7201a8"
            ],
            [
             0.3333333333333333,
             "#9c179e"
            ],
            [
             0.4444444444444444,
             "#bd3786"
            ],
            [
             0.5555555555555556,
             "#d8576b"
            ],
            [
             0.6666666666666666,
             "#ed7953"
            ],
            [
             0.7777777777777778,
             "#fb9f3a"
            ],
            [
             0.8888888888888888,
             "#fdca26"
            ],
            [
             1,
             "#f0f921"
            ]
           ]
          },
          "colorway": [
           "#636efa",
           "#EF553B",
           "#00cc96",
           "#ab63fa",
           "#FFA15A",
           "#19d3f3",
           "#FF6692",
           "#B6E880",
           "#FF97FF",
           "#FECB52"
          ],
          "font": {
           "color": "#2a3f5f"
          },
          "geo": {
           "bgcolor": "white",
           "lakecolor": "white",
           "landcolor": "#E5ECF6",
           "showlakes": true,
           "showland": true,
           "subunitcolor": "white"
          },
          "hoverlabel": {
           "align": "left"
          },
          "hovermode": "closest",
          "mapbox": {
           "style": "light"
          },
          "paper_bgcolor": "white",
          "plot_bgcolor": "#E5ECF6",
          "polar": {
           "angularaxis": {
            "gridcolor": "white",
            "linecolor": "white",
            "ticks": ""
           },
           "bgcolor": "#E5ECF6",
           "radialaxis": {
            "gridcolor": "white",
            "linecolor": "white",
            "ticks": ""
           }
          },
          "scene": {
           "xaxis": {
            "backgroundcolor": "#E5ECF6",
            "gridcolor": "white",
            "gridwidth": 2,
            "linecolor": "white",
            "showbackground": true,
            "ticks": "",
            "zerolinecolor": "white"
           },
           "yaxis": {
            "backgroundcolor": "#E5ECF6",
            "gridcolor": "white",
            "gridwidth": 2,
            "linecolor": "white",
            "showbackground": true,
            "ticks": "",
            "zerolinecolor": "white"
           },
           "zaxis": {
            "backgroundcolor": "#E5ECF6",
            "gridcolor": "white",
            "gridwidth": 2,
            "linecolor": "white",
            "showbackground": true,
            "ticks": "",
            "zerolinecolor": "white"
           }
          },
          "shapedefaults": {
           "line": {
            "color": "#2a3f5f"
           }
          },
          "ternary": {
           "aaxis": {
            "gridcolor": "white",
            "linecolor": "white",
            "ticks": ""
           },
           "baxis": {
            "gridcolor": "white",
            "linecolor": "white",
            "ticks": ""
           },
           "bgcolor": "#E5ECF6",
           "caxis": {
            "gridcolor": "white",
            "linecolor": "white",
            "ticks": ""
           }
          },
          "title": {
           "x": 0.05
          },
          "xaxis": {
           "automargin": true,
           "gridcolor": "white",
           "linecolor": "white",
           "ticks": "",
           "title": {
            "standoff": 15
           },
           "zerolinecolor": "white",
           "zerolinewidth": 2
          },
          "yaxis": {
           "automargin": true,
           "gridcolor": "white",
           "linecolor": "white",
           "ticks": "",
           "title": {
            "standoff": 15
           },
           "zerolinecolor": "white",
           "zerolinewidth": 2
          }
         }
        },
        "title": {
         "text": "Isolation Forest Outliers"
        }
       }
      }
     },
     "metadata": {},
     "output_type": "display_data"
    }
   ],
   "source": [
    "import pandas as pd\n",
    "from sklearn.preprocessing import StandardScaler\n",
    "from sklearn.ensemble import IsolationForest\n",
    "from sklearn.impute import SimpleImputer\n",
    "from sklearn.metrics import accuracy_score\n",
    "import plotly.express as px\n",
    "\n",
    "# Assuming df is your DataFrame\n",
    "\n",
    "# Convert 'Total_Inspection' to numeric\n",
    "df['Total_Inspection'] = pd.to_numeric(df['Total_Inspection'].str.replace(',', ''), errors='coerce')\n",
    "\n",
    "# Check and convert 'Total_Inspection_Completed_Works'\n",
    "if pd.api.types.is_numeric_dtype(df['Total_Inspection_Completed_Works']):\n",
    "    df['Total_Inspection_Completed_Works'] = df['Total_Inspection_Completed_Works'].astype(float)\n",
    "else:\n",
    "    df['Total_Inspection_Completed_Works'] = df['Total_Inspection_Completed_Works'].str.replace(',', '').astype(float)\n",
    "\n",
    "# List of columns to convert to numeric after removing '%'\n",
    "percentage_columns = ['Completed_Works_U%', 'Ongoing_Works', 'Ongoing_U%', 'Maintenance_Works', 'Maintenance_U%', 'Bridge_Works', 'Bridge_U%']\n",
    "\n",
    "# Loop through the columns and convert to numeric after removing '%'\n",
    "for col in percentage_columns:\n",
    "    # Check if the column is already numeric\n",
    "    if not pd.api.types.is_numeric_dtype(df[col]):\n",
    "        df[col] = df[col].str.rstrip('%').astype('float') / 100.0\n",
    "\n",
    "# Identify numeric columns\n",
    "numeric_columns = df.select_dtypes(include=['number']).columns\n",
    "\n",
    "# Impute missing values for each numeric column separately\n",
    "imputer = SimpleImputer(strategy='mean')\n",
    "for col in numeric_columns:\n",
    "    df[col] = imputer.fit_transform(df[[col]])\n",
    "\n",
    "# Isolation Forest\n",
    "features = df[['Total_Inspection_Completed_Works', 'Completed_Works_U%', 'Ongoing_Works', 'Ongoing_U%',\n",
    "                      'Maintenance_Works', 'Maintenance_U%', 'Bridge_Works', 'Bridge_U%', 'Total_Inspection']]\n",
    "\n",
    "scaler = StandardScaler()\n",
    "features_scaled = scaler.fit_transform(features)\n",
    "\n",
    "iso_forest = IsolationForest(random_state=42, contamination=0.05)\n",
    "df['outlier'] = iso_forest.fit_predict(features_scaled)\n",
    "\n",
    "# Accuracy Score\n",
    "true_labels = [1 if x == 1 else -1 for x in df['outlier']]\n",
    "predicted_labels = iso_forest.predict(features_scaled)\n",
    "accuracy = accuracy_score(true_labels, predicted_labels)\n",
    "\n",
    "print(f'Isolation Forest Accuracy: {accuracy}')\n",
    "\n",
    "# Visualization using Plotly\n",
    "fig = px.scatter_3d(df, x='Total_Inspection_Completed_Works', y='Ongoing_Works', z='Maintenance_Works',\n",
    "                    color='outlier', title='Isolation Forest Outliers',\n",
    "                    labels={'Total_Inspection_Completed_Works': 'Completed Works',\n",
    "                            'Ongoing_Works': 'Ongoing Works',\n",
    "                            'Maintenance_Works': 'Maintenance Works'})\n",
    "\n",
    "fig.update_layout(scene=dict(aspectmode=\"cube\"))\n",
    "fig.show()\n"
   ]
  },
  {
   "cell_type": "code",
   "execution_count": null,
   "metadata": {},
   "outputs": [],
   "source": []
  }
 ],
 "metadata": {
  "kernelspec": {
   "display_name": "Python 3",
   "language": "python",
   "name": "python3"
  },
  "language_info": {
   "codemirror_mode": {
    "name": "ipython",
    "version": 3
   },
   "file_extension": ".py",
   "mimetype": "text/x-python",
   "name": "python",
   "nbconvert_exporter": "python",
   "pygments_lexer": "ipython3",
   "version": "3.10.11"
  }
 },
 "nbformat": 4,
 "nbformat_minor": 2
}
